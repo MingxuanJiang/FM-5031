{
 "cells": [
  {
   "cell_type": "markdown",
   "metadata": {
    "colab_type": "text",
    "id": "8ebPCqmM0hZf"
   },
   "source": [
    "# Math 5031\n",
    "## Home Work  3\n",
    "### MingxuanJiang 5588030\n",
    "**Due:  Friday, October 2\n",
    "\n",
    "\n"
   ]
  },
  {
   "cell_type": "markdown",
   "metadata": {},
   "source": [
    "Collarborated with HaoChen, JingyiLi and HanlinDing"
   ]
  },
  {
   "cell_type": "markdown",
   "metadata": {
    "colab_type": "text",
    "id": "MwWp0mKe0hZg"
   },
   "source": [
    "1.  Consider a swap curve given by\n",
    "\n",
    "\n",
    "|Term|BEY%|\n",
    "|---|---|\n",
    "|1|3.00|\n",
    "|2|3.25|\n",
    "|3|3.65|\n",
    "|5|4.00|\n",
    "|7|4.50|\n",
    "|10|5.00|\n",
    "|20|4.50|\n",
    "|30|4.20|\n",
    "\n",
    "\n",
    "a) Use a bootstrapping routine to determine the par curve and the spot curve.\n",
    "\n",
    "b) Determine the fair coupon for 10 in 5 forward starting swap.\n",
    "\n",
    "c) Determine the forward price of 10 year bond paying $5.00\\% BEY$ coupons to be purchased in five year.  That is, the bond pay coupons starting in year 5 and redeems at year 15. \n",
    "\n",
    "\n",
    "d) What should the coupon be so that the price is $100$ (i.e. at par)?\n",
    "\n"
   ]
  },
  {
   "cell_type": "code",
   "execution_count": 1,
   "metadata": {},
   "outputs": [],
   "source": [
    "import numpy as np\n",
    "from matplotlib import pyplot as plt"
   ]
  },
  {
   "cell_type": "markdown",
   "metadata": {},
   "source": [
    "a) Use a bootstrapping routine to determine the spot curve.\n",
    "\n",
    "I use the same function of HW1"
   ]
  },
  {
   "cell_type": "code",
   "execution_count": 2,
   "metadata": {},
   "outputs": [],
   "source": [
    "def simplebootstrap(mats, par_yields):\n",
    "    \n",
    "    \n",
    "    #  This is not always needed, but sometimes helpful\n",
    "    mats = np.array(mats)\n",
    "    mats = mats.flatten()\n",
    "    par_yields = np.array(par_yields)\n",
    "    par_yields = par_yields.flatten()  \n",
    "    #\n",
    "    \n",
    "    \n",
    "    firstmat = mats[0]\n",
    "    lastmat = mats[-1]  #mats should be fed in in order.\n",
    "    \n",
    "    times = np.arange(0.5, lastmat+.5, 0.5)\n",
    "    \n",
    "    \n",
    "    if mats[0] > 0.5:  #in case first par yield is not 6 months\n",
    "        \n",
    "        earlymats = np.arange(0.5,firstmat,.5)\n",
    "        \n",
    "        mats = np.append(earlymats,mats)\n",
    "        \n",
    "        earlypars = np.ones((1,2*firstmat -1)) * par_yields[0]\n",
    "        earlypars = earlypars.flatten()\n",
    "        par_yields = np.append(earlypars, par_yields)\n",
    "        \n",
    "    \n",
    "    bey_interp = np.interp(times,mats,par_yields)\n",
    "    \n",
    "    # Make the coupon matrix\n",
    "    \n",
    "    C = np.kron(np.ones((len(bey_interp),1)),bey_interp).T /2\n",
    "    \n",
    "    \n",
    "    C = np.tril(C) + np.eye(len(bey_interp))\n",
    "    \n",
    "    \n",
    "    pars = np.ones((len(bey_interp),1))\n",
    "    # solve matrix equation\n",
    "    \n",
    "    ZCB = np.matmul(np.linalg.inv(C),pars).flatten()\n",
    "    \n",
    "    \n",
    "    spots = -np.log(ZCB) *  1/times\n",
    "    \n",
    "    return ZCB, spots\n",
    "    \n",
    "\n",
    "    "
   ]
  },
  {
   "cell_type": "code",
   "execution_count": 3,
   "metadata": {},
   "outputs": [],
   "source": [
    "mats = np.array([1,2,3,5,7,10,20,30])\n",
    "par_yields = np.array([.03,.0325,.0365,.04,.045,.05,.045,.042])\n",
    "Z, rates = simplebootstrap(mats, par_yields)"
   ]
  },
  {
   "cell_type": "code",
   "execution_count": 4,
   "metadata": {},
   "outputs": [
    {
     "name": "stdout",
     "output_type": "stream",
     "text": [
      "Spot Curve: [0.02977722 0.02977722 0.03102772 0.03228422 0.03431373 0.03635862\n",
      " 0.037245   0.03814173 0.03904846 0.03996523 0.04130501 0.04266063\n",
      " 0.04403378 0.04542621 0.04634641 0.0472812  0.0482312  0.04919721\n",
      " 0.05018012 0.05118097 0.05076613 0.0503601  0.04996145 0.04956902\n",
      " 0.04918184 0.04879908 0.04842005 0.04804417 0.04767094 0.04729993\n",
      " 0.04693079 0.04656321 0.04619691 0.04583169 0.04546734 0.04510371\n",
      " 0.04474066 0.04437807 0.04401586 0.04365393 0.04344484 0.04323475\n",
      " 0.04302367 0.04281159 0.0425985  0.04238442 0.04216935 0.04195328\n",
      " 0.04173624 0.04151823 0.04129926 0.04107935 0.04085851 0.04063676\n",
      " 0.04041413 0.04019062 0.03996627 0.03974109 0.03951511 0.03928836]\n"
     ]
    },
    {
     "data": {
      "text/plain": [
       "[<matplotlib.lines.Line2D at 0x1ef89f72588>]"
      ]
     },
     "execution_count": 4,
     "metadata": {},
     "output_type": "execute_result"
    },
    {
     "data": {
      "image/png": "[encoded data removed]",
      "text/plain": [
       "<Figure size 432x288 with 1 Axes>"
      ]
     },
     "metadata": {
      "needs_background": "light"
     },
     "output_type": "display_data"
    }
   ],
   "source": [
    "print('Spot Curve:',rates)\n",
    "plt.plot(np.arange(0.5,30.1,0.5), rates)"
   ]
  },
  {
   "cell_type": "markdown",
   "metadata": {},
   "source": [
    "b) Determine the fair coupon for 10 in 5 forward starting swap.\n",
    "$$c = 2\\frac{1 - Z(t;t_1,t_1 + T)}{\\Sigma_{k=1}^{2T} Z(t;t_1,t_1 + 0.5K)}$$\n",
    "where $$t=0,t_1=5,T=10$$\n",
    "It also can be written as\n",
    "$$S(t;t_{start}, t_{end}) = 2\\frac{Z(t,t_{start})- Z(t,t_{end})}{A_2(t,t_{start},t_{end})}$$"
   ]
  },
  {
   "cell_type": "code",
   "execution_count": 5,
   "metadata": {},
   "outputs": [
    {
     "name": "stdout",
     "output_type": "stream",
     "text": [
      "The fair coupon is 0.05300527218751756\n"
     ]
    }
   ],
   "source": [
    "c = 2*(Z[2*5-1]-Z[2*15-1])/sum(Z[10:30])\n",
    "print('The fair coupon is',c)"
   ]
  },
  {
   "cell_type": "markdown",
   "metadata": {},
   "source": [
    "c) Determine the forward price of 10 year bond paying $5.00\\% BEY$ coupons to be purchased in five year.  That is, the bond pay coupons starting in year 5 and redeems at year 15. "
   ]
  },
  {
   "cell_type": "code",
   "execution_count": 6,
   "metadata": {},
   "outputs": [
    {
     "name": "stdout",
     "output_type": "stream",
     "text": [
      "The forward price is 80.03339672063703\n"
     ]
    }
   ],
   "source": [
    "cfs3 = 0.05/2*np.ones((10*2,1)).flatten()\n",
    "cfs3[-1] += 1\n",
    "value3 = np.inner(cfs3,Z[10:30])\n",
    "print('The forward price is',value3*100)"
   ]
  },
  {
   "cell_type": "markdown",
   "metadata": {},
   "source": [
    "d) What should the coupon be so that the price is $100$ (i.e. at par)?"
   ]
  },
  {
   "cell_type": "code",
   "execution_count": 7,
   "metadata": {},
   "outputs": [
    {
     "name": "stdout",
     "output_type": "stream",
     "text": [
      "The coupon is 0.08236672385427805\n"
     ]
    }
   ],
   "source": [
    "c = 2*(1-Z[2*15-1])/sum(Z[10:30])\n",
    "print('The coupon is',c)"
   ]
  },
  {
   "cell_type": "markdown",
   "metadata": {},
   "source": [
    "Verify the price"
   ]
  },
  {
   "cell_type": "code",
   "execution_count": 8,
   "metadata": {},
   "outputs": [
    {
     "name": "stdout",
     "output_type": "stream",
     "text": [
      "The forward price is 100.00000000000003\n"
     ]
    }
   ],
   "source": [
    "cfs4 = c/2*np.ones((10*2,1)).flatten()\n",
    "cfs4[-1] += 1\n",
    "value4 = np.inner(cfs4,Z[10:30])\n",
    "print('The forward price is',value4*100)"
   ]
  },
  {
   "cell_type": "markdown",
   "metadata": {
    "colab_type": "text",
    "id": "vI4dsKlh0hZh"
   },
   "source": [
    "2. Using the same yield curve as in question 1. A 5 in 10 forward starting payor swap is entered into at zero cost.\n",
    "\n",
    "    a) What is the fixed coupon?\n",
    "    \n",
    "    b) Immediataly after agreeing to the swap, rate increase (parallel) by 100 basis points. What is the value of the swap?\n",
    "    \n",
    "    c) Suppose instead the curve \"tilts\" around the 10 year point. That is, the yield curve shock according to\\ $$r(0,t) \\rightarrow \\delta(t)$$ where \n",
    "    \n",
    "   $$\\delta(t) = .001(t - 10)$$\n",
    "   \n",
    "   What is the value of the swap now?\n"
   ]
  },
  {
   "cell_type": "markdown",
   "metadata": {},
   "source": [
    "a) What is the fixed coupon?"
   ]
  },
  {
   "cell_type": "code",
   "execution_count": 9,
   "metadata": {},
   "outputs": [
    {
     "name": "stdout",
     "output_type": "stream",
     "text": [
      "The fixed coupon is 0.04004087935801911\n"
     ]
    }
   ],
   "source": [
    "c2 = 2*(Z[2*10-1]-Z[2*15-1])/sum(Z[20:30])\n",
    "print('The fixed coupon is',c2)"
   ]
  },
  {
   "cell_type": "markdown",
   "metadata": {},
   "source": [
    "b) Immediataly after agreeing to the swap, rate increase (parallel) by 100 basis points. What is the value of the swap?"
   ]
  },
  {
   "cell_type": "markdown",
   "metadata": {},
   "source": [
    "$$Fixed = \\frac{c}{2}  \\sum_{k=1}^{2T} Z(t,t_1+\\frac{k}{2})$$\n",
    "$$floating(t1) = Z(t,t_1)- Z(t, t_1 + T)$$"
   ]
  },
  {
   "cell_type": "code",
   "execution_count": 10,
   "metadata": {},
   "outputs": [
    {
     "name": "stdout",
     "output_type": "stream",
     "text": [
      "fixed leg 0.09473486936869052\n",
      "floating leg 0.11899430313164483\n",
      "The value of the swap is 2.4259433762954306\n"
     ]
    }
   ],
   "source": [
    "rates2b = rates+0.01\n",
    "times2b = np.arange(0.5,30.1,0.5)\n",
    "Zcb2b = np.exp(-times2b*rates2b)\n",
    "# fixed leg\n",
    "fixedleg = c2/2*sum(Zcb2b[20:30])\n",
    "print('fixed leg',fixedleg)\n",
    "# floating leg\n",
    "floatingleg = Zcb2b[19] - Zcb2b[29]\n",
    "print('floating leg',floatingleg)\n",
    "swapvalue = floatingleg - fixedleg\n",
    "print('The value of the swap is',swapvalue*100)"
   ]
  },
  {
   "cell_type": "markdown",
   "metadata": {},
   "source": [
    "c) Suppose instead the curve \"tilts\" around the 10 year point. That is, the yield curve shock according to\\ $$r(0,t) \\rightarrow  r(0,t) + \\delta(t)$$  where \n",
    "    \n",
    "   $$\\delta(t) = .001(t - 10)$$\n",
    "   \n",
    "   What is the value of the swap now?\n"
   ]
  },
  {
   "cell_type": "code",
   "execution_count": 11,
   "metadata": {},
   "outputs": [
    {
     "name": "stdout",
     "output_type": "stream",
     "text": [
      "fixed leg 0.10375591088889032\n",
      "floating leg 0.14306155520386665\n",
      "The value of the swap is 3.9305644314976336\n"
     ]
    }
   ],
   "source": [
    "rates2c = rates + 0.001*(times2b-10)\n",
    "Zcb2c = np.exp(-times2b*rates2c)\n",
    "# fixed leg\n",
    "fixedleg = c2/2*sum(Zcb2c[20:30])\n",
    "print('fixed leg',fixedleg)\n",
    "# floating leg\n",
    "floatingleg = Zcb2c[19] - Zcb2c[29]\n",
    "print('floating leg',floatingleg)\n",
    "swapvalue = floatingleg - fixedleg\n",
    "print('The value of the swap is',swapvalue*100)"
   ]
  },
  {
   "cell_type": "markdown",
   "metadata": {
    "colab_type": "text",
    "id": "PuyTCI110hZi"
   },
   "source": [
    "3. Suppose your projected cash flows (from your business) are as follows: For 10 years you will have negative cash flows of $100$| at the end of the year. For the next 20 years beyond that you will have positive cash flows\n",
    "of $500 at the end of the year.\n",
    "\n",
    "a) Using the yield curve from ex. 1, what the value of your business?\n",
    "\n",
    "b) What is the dollar duration of your business value?\n",
    "\n",
    "c) Determine the notional of a 10 year swap you would use to immunize the value of your businees from interest rate changes.  Will this be a payor or recievor swap?\n",
    "\n",
    "d)For the \"tilt\" shock described in ex. 2, evaluate how well your hedge worked.\n",
    "\n"
   ]
  },
  {
   "cell_type": "markdown",
   "metadata": {},
   "source": [
    "a) Using the yield curve from ex. 1, what the value of your business?"
   ]
  },
  {
   "cell_type": "code",
   "execution_count": 12,
   "metadata": {},
   "outputs": [
    {
     "name": "stdout",
     "output_type": "stream",
     "text": [
      "[   0. -100.    0. -100.    0. -100.    0. -100.    0. -100.    0. -100.\n",
      "    0. -100.    0. -100.    0. -100.    0. -100.    0.  500.    0.  500.\n",
      "    0.  500.    0.  500.    0.  500.    0.  500.    0.  500.    0.  500.\n",
      "    0.  500.    0.  500.    0.  500.    0.  500.    0.  500.    0.  500.\n",
      "    0.  500.    0.  500.    0.  500.    0.  500.    0.  500.    0.  500.]\n",
      "The value is 3408.9440558183965\n"
     ]
    }
   ],
   "source": [
    "cfs3a = np.ones(30*2).flatten()\n",
    "cfs3a[0:10*2] = -100\n",
    "cfs3a[20:] = 500\n",
    "cfs3a[::2] = 0\n",
    "print(cfs3a)\n",
    "value3a = np.inner(cfs3a,Z)\n",
    "print('The value is',value3a)"
   ]
  },
  {
   "cell_type": "markdown",
   "metadata": {},
   "source": [
    "b) What is the dollar duration of your business value?"
   ]
  },
  {
   "cell_type": "code",
   "execution_count": 13,
   "metadata": {},
   "outputs": [
    {
     "name": "stdout",
     "output_type": "stream",
     "text": [
      "The dollar duration is 77519.20281910631\n"
     ]
    }
   ],
   "source": [
    "times3b = np.arange(0.5,30.1,0.5)\n",
    "Dur = np.inner(Z,times3b*cfs3a)/value3a\n",
    "DDur = Dur*value3a\n",
    "print('The dollar duration is',DDur)"
   ]
  },
  {
   "cell_type": "markdown",
   "metadata": {},
   "source": [
    "c) Determine the notional of a 10 year swap you would use to immunize the value of your businees from interest rate changes.  Will this be a payor or recievor swap?"
   ]
  },
  {
   "cell_type": "code",
   "execution_count": 14,
   "metadata": {},
   "outputs": [
    {
     "name": "stdout",
     "output_type": "stream",
     "text": [
      "swaprate 0.049999999999999996\n"
     ]
    }
   ],
   "source": [
    "times = np.arange(0.5,30.1,0.5)\n",
    "times3c = np.arange(0.5,10.1,0.5)\n",
    "Zcb3c = np.exp(-rates*times)\n",
    "swaprate = 2*(1-Z[10*2-1])/sum(Z[0:20])\n",
    "print('swaprate',swaprate)"
   ]
  },
  {
   "cell_type": "code",
   "execution_count": 15,
   "metadata": {},
   "outputs": [
    {
     "name": "stdout",
     "output_type": "stream",
     "text": [
      "The duration is 7.924708699518062\n"
     ]
    }
   ],
   "source": [
    "cfs3c = swaprate/2*np.ones([20])\n",
    "cfs3c[-1] += 1\n",
    "Dur10 = np.inner(times3c*cfs3c,Zcb3c[0:20])/np.inner(cfs3c,Zcb3c[0:20])\n",
    "print('The duration is',Dur10)"
   ]
  },
  {
   "cell_type": "code",
   "execution_count": 16,
   "metadata": {},
   "outputs": [
    {
     "name": "stdout",
     "output_type": "stream",
     "text": [
      "7.674708699518062\n"
     ]
    }
   ],
   "source": [
    "DDS = Dur10 - 0.25\n",
    "print(DDS)"
   ]
  },
  {
   "cell_type": "code",
   "execution_count": 17,
   "metadata": {},
   "outputs": [
    {
     "name": "stdout",
     "output_type": "stream",
     "text": [
      "The notional is 10100.605228700626\n"
     ]
    }
   ],
   "source": [
    "print('The notional is',DDur/DDS)"
   ]
  },
  {
   "cell_type": "markdown",
   "metadata": {},
   "source": [
    "The dollar duration is positive. And when the interest rate rises, the value of business rises. So in order to decrease the impact of interest rate, it is a payor swap."
   ]
  },
  {
   "cell_type": "markdown",
   "metadata": {},
   "source": [
    "d)For the \"tilt\" shock described in ex. 2, evaluate how well your hedge worked."
   ]
  },
  {
   "cell_type": "code",
   "execution_count": 32,
   "metadata": {},
   "outputs": [
    {
     "name": "stdout",
     "output_type": "stream",
     "text": [
      "fixed leg 0.4074209010504016\n",
      "floating leg 0.4005901546528221\n",
      "The value of the swap -68.99467277931913\n",
      "The value of the business 2631.4132198704956\n",
      "The change of the business -777.5308359479009\n"
     ]
    }
   ],
   "source": [
    "rates3d = rates + 0.001*(times-10)\n",
    "Zcb3d = np.exp(-times*rates3d)\n",
    "# fixed leg\n",
    "fixedleg = swaprate/2*sum(Zcb3d[0:20])\n",
    "print('fixed leg',fixedleg)\n",
    "# floating leg\n",
    "floatingleg = 1 - Zcb3d[19]\n",
    "print('floating leg',floatingleg)\n",
    "swapvalue = (floatingleg-fixedleg)*DDur/DDS\n",
    "print('The value of the swap',swapvalue)\n",
    "\n",
    "value = np.inner(cfs3a,Zcb3d)\n",
    "print('The value of the business',value)\n",
    "print('The change of the business', value-value3a)"
   ]
  },
  {
   "cell_type": "markdown",
   "metadata": {},
   "source": [
    "We can notice that the value of swap isn't equal to the change value of the business. So the hedge doesn't work."
   ]
  },
  {
   "cell_type": "markdown",
   "metadata": {
    "colab_type": "text",
    "id": "aH2eaSl20hZi"
   },
   "source": []
  },
  {
   "cell_type": "markdown",
   "metadata": {
    "colab_type": "text",
    "id": "GkDiIIlJ0hZj"
   },
   "source": []
  },
  {
   "cell_type": "code",
   "execution_count": null,
   "metadata": {
    "colab": {},
    "colab_type": "code",
    "id": "7wzPloXR0hZj"
   },
   "outputs": [],
   "source": []
  }
 ],
 "metadata": {
  "colab": {
   "name": "MATH5031HW2.ipynb",
   "provenance": []
  },
  "kernelspec": {
   "display_name": "Python 3",
   "language": "python",
   "name": "python3"
  },
  "language_info": {
   "codemirror_mode": {
    "name": "ipython",
    "version": 3
   },
   "file_extension": ".py",
   "mimetype": "text/x-python",
   "name": "python",
   "nbconvert_exporter": "python",
   "pygments_lexer": "ipython3",
   "version": "3.7.1"
  }
 },
 "nbformat": 4,
 "nbformat_minor": 1
}
