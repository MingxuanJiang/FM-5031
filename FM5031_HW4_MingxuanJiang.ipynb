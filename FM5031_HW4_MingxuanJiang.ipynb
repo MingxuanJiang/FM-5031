{
 "cells": [
  {
   "cell_type": "markdown",
   "metadata": {},
   "source": [
    "# FM 5031\n",
    "\n",
    "## HomeWork 4\n",
    "\n",
    "Due Friday October 9\n",
    "\n"
   ]
  },
  {
   "cell_type": "markdown",
   "metadata": {},
   "source": [
    "### MingxuanJiang"
   ]
  },
  {
   "cell_type": "markdown",
   "metadata": {},
   "source": [
    "Collarborated with HaoChen, JingyiLi and HanlinDing"
   ]
  },
  {
   "cell_type": "markdown",
   "metadata": {},
   "source": [
    "#### 1.  The $BEY$ swap curve in the Python cell below is observed on March 31, 2021. "
   ]
  },
  {
   "cell_type": "code",
   "execution_count": 1,
   "metadata": {},
   "outputs": [
    {
     "name": "stdout",
     "output_type": "stream",
     "text": [
      "[ 1.  2.  5.  7. 10. 20. 30.] [0.05  0.045 0.035 0.033 0.04  0.045 0.047]\n"
     ]
    }
   ],
   "source": [
    "import numpy as np\n",
    "import matplotlib.pyplot as plt\n",
    "\n",
    "\n",
    "termsKnown = np.array([1.0, 2.0, 5.0, 7.0, 10, 20, 30])\n",
    "swapratesKnown = np.array([.05, .045, .035, .033, .04,.045, .047])\n",
    "\n",
    "print(termsKnown, swapratesKnown)"
   ]
  },
  {
   "cell_type": "markdown",
   "metadata": {},
   "source": [
    "a. Bootstrap this curve using your routine from Homework 1 or 2 (i.e., interpolating BEY's or assuming constant forwards).  Determine the fair coupon rate for a 10 in 5 forward starting swap.\n"
   ]
  },
  {
   "cell_type": "code",
   "execution_count": 2,
   "metadata": {},
   "outputs": [],
   "source": [
    "# using the interpolating assumption\n",
    "def simplebootstrap(mats, par_yields):\n",
    "    \n",
    "    \n",
    "    #  This is not always needed, but sometimes helpful\n",
    "    mats = np.array(mats)\n",
    "    mats = mats.flatten()\n",
    "    par_yields = np.array(par_yields)\n",
    "    par_yields = par_yields.flatten()  \n",
    "    #\n",
    "    \n",
    "    # transfer the type from float to int\n",
    "    mats = mats.astype(int)\n",
    "\n",
    "    firstmat = mats[0]\n",
    "    lastmat = mats[-1]  #mats should be fed in in order.\n",
    "    \n",
    "    times = np.arange(0.5, lastmat+.5, 0.5)\n",
    "    \n",
    "    \n",
    "    if mats[0] > 0.5:  #in case first par yield is not 6 months\n",
    "        \n",
    "        earlymats = np.arange(0.5,firstmat,.5)\n",
    "        \n",
    "        mats = np.append(earlymats,mats)\n",
    "        \n",
    "        earlypars = np.ones((1,2*firstmat -1)) * par_yields[0]\n",
    "        earlypars = earlypars.flatten()\n",
    "        par_yields = np.append(earlypars, par_yields)\n",
    "        \n",
    "    \n",
    "    bey_interp = np.interp(times,mats,par_yields)\n",
    "    \n",
    "    # Make the coupon matrix\n",
    "    \n",
    "    C = np.kron(np.ones((len(bey_interp),1)),bey_interp).T /2\n",
    "    \n",
    "    \n",
    "    C = np.tril(C) + np.eye(len(bey_interp))\n",
    "    \n",
    "    \n",
    "    pars = np.ones((len(bey_interp),1))\n",
    "    # solve matrix equation\n",
    "    \n",
    "    ZCB = np.matmul(np.linalg.inv(C),pars).flatten()\n",
    "    \n",
    "    \n",
    "    spots = -np.log(ZCB) *  1/times\n",
    "    \n",
    "    return ZCB, spots\n",
    "    "
   ]
  },
  {
   "cell_type": "markdown",
   "metadata": {},
   "source": [
    "$$S(t;t_{start}, t_{end}) = 2\\frac{Z(t,t_{start})- Z(t,t_{end})}{A_2(t,t_{start},t_{end})}$$"
   ]
  },
  {
   "cell_type": "code",
   "execution_count": 3,
   "metadata": {},
   "outputs": [
    {
     "name": "stdout",
     "output_type": "stream",
     "text": [
      "The fair coupon is 0.04750171207406646\n"
     ]
    }
   ],
   "source": [
    "Z, rates = simplebootstrap(termsKnown, swapratesKnown)\n",
    "c1 = 2*(Z[2*5-1]-Z[2*15-1])/sum(Z[10:30])\n",
    "print('The fair coupon is',c1)"
   ]
  },
  {
   "cell_type": "markdown",
   "metadata": {},
   "source": [
    "b. The swap in a is entered into by Julia where Julia will pay floating and recieve fixed.  On March 31, 2022, the yield curve has changed and is given in the python code.  What is the value of Juila's swap?"
   ]
  },
  {
   "cell_type": "code",
   "execution_count": 4,
   "metadata": {},
   "outputs": [
    {
     "name": "stdout",
     "output_type": "stream",
     "text": [
      "[ 1.  2.  5.  7. 10. 20. 30.] [0.02  0.03  0.05  0.06  0.075 0.08  0.09 ]\n"
     ]
    }
   ],
   "source": [
    "termsKnown = np.array([1.0, 2.0, 5.0, 7.0, 10, 20, 30])\n",
    "swapratesKnown2 = np.array([.02, .03, .05, .06, .075,.08, .09])\n",
    "\n",
    "print(termsKnown, swapratesKnown2)"
   ]
  },
  {
   "cell_type": "code",
   "execution_count": 5,
   "metadata": {},
   "outputs": [
    {
     "name": "stdout",
     "output_type": "stream",
     "text": [
      "Fixed leg 0.24831907903418113\n",
      "Floating leg 0.5270869185664864\n",
      "The value of swap is -0.2787678395323052\n"
     ]
    }
   ],
   "source": [
    "Z2, rates2 = simplebootstrap(termsKnown, swapratesKnown2)\n",
    "# fixed leg\n",
    "fixedleg = c1/2*sum(Z2[8:28])\n",
    "print('Fixed leg',fixedleg)\n",
    "# floating leg\n",
    "floatingleg = Z2[7]-Z2[27]\n",
    "print('Floating leg',floatingleg)\n",
    "swapvalue = fixedleg - floatingleg\n",
    "print('The value of swap is',swapvalue)"
   ]
  },
  {
   "cell_type": "markdown",
   "metadata": {},
   "source": [
    "#### 2. Use the same curves as in question 1.  On March 31 2021, Brad purches a 5 in 1 payor swaption at the money (meaning that the strike is the fair coupon rate of the corresponding foreward starting swap).\n",
    "\n",
    "    1. On March 31,2022, what will the fair coupon rate for a five year swap be?\n",
    "\n",
    "    2. What is the payoff on Brad's swaption?\n",
    "\n",
    "\n"
   ]
  },
  {
   "cell_type": "markdown",
   "metadata": {},
   "source": [
    "A. On March 31,2022, what will the fair coupon rate for a five year swap be?"
   ]
  },
  {
   "cell_type": "code",
   "execution_count": 6,
   "metadata": {},
   "outputs": [
    {
     "name": "stdout",
     "output_type": "stream",
     "text": [
      "The fair coupon is 0.049999999999999975\n"
     ]
    }
   ],
   "source": [
    "c2 = 2*(1-Z2[9])/sum(Z2[0:10])\n",
    "print('The fair coupon is',c2)"
   ]
  },
  {
   "cell_type": "markdown",
   "metadata": {},
   "source": [
    "B. What is the payoff on Brad's swaption?"
   ]
  },
  {
   "cell_type": "markdown",
   "metadata": {},
   "source": [
    "$$Swap(t;K,T_0,T_S)=MAX[S(t;T_O,T_S)-K,0]\\frac{A_2(t,T_O,T_S)}{2}$$"
   ]
  },
  {
   "cell_type": "code",
   "execution_count": 7,
   "metadata": {},
   "outputs": [
    {
     "name": "stdout",
     "output_type": "stream",
     "text": [
      "The fair coupon is 0.030457493167406664\n"
     ]
    }
   ],
   "source": [
    "c2b = 2*(Z[1]-Z[11])/sum(Z[2:12])\n",
    "print('The fair coupon is',c2b)"
   ]
  },
  {
   "cell_type": "code",
   "execution_count": 8,
   "metadata": {},
   "outputs": [
    {
     "name": "stdout",
     "output_type": "stream",
     "text": [
      "0.049999999999999975\n",
      "0.0877817354688057\n"
     ]
    }
   ],
   "source": [
    "S = 2*(1-Z2[2*6-1-2])/sum(Z2[0:10])\n",
    "print(S)\n",
    "payoff2 = max(S-c2b,0)*sum(Z2[0:10])/2\n",
    "print(payoff2)"
   ]
  },
  {
   "cell_type": "markdown",
   "metadata": {},
   "source": [
    "#### 3. Suppose John wished to purchase a 20 in 5 payor swaption struck at $4.00\\%$.  However, he can only purchase recievor swaptions, swaps, and forward starting swaps.  Use put-call parity to constuct a set of purchases equivalent to his desired purchase.  Specify the strikes, coupon rates , $T_O$, $T_S$, etc. Use the yield curve from problem one.\n",
    "\n",
    "Comment: You can enter into a swap where the coupon is not the fair coupon. But in that case, a lump sum will need to be exchanged between the counter parties."
   ]
  },
  {
   "cell_type": "markdown",
   "metadata": {},
   "source": [
    "$$Swaption_{pay}(T_O;K,T_O,T_S)=\\mathrm{Max}\\left[S(T_O;T_O,T_S)-K, 0\\right]\\frac{A_2(T_O,T_O,T_S)}{2}$$\n",
    "$$Swaption_{receive}(T_O;K,T_O,T_S)=\\mathrm{Max}\\left[K-S(T_O;T_O,T_S), 0\\right]\\frac{A_2(T_O,T_O,T_S)}{2}$$"
   ]
  },
  {
   "cell_type": "markdown",
   "metadata": {},
   "source": [
    "In order to get a 20 in 5 payor swaption with strike 4%, we need to long a 20 in 5 receiver swaption with strike 4% and long a forward starting swap where pay 4% fixed rate and receive LIBOR for 20 years, starting in 5 years."
   ]
  },
  {
   "cell_type": "code",
   "execution_count": 21,
   "metadata": {},
   "outputs": [
    {
     "name": "stdout",
     "output_type": "stream",
     "text": [
      "The payoff of a 20 in 5 receiver swaption 0.0\n",
      "Fixed leg 0.42775044818893443\n",
      "Floating leg 0.5413185359043637\n",
      "The value of a 20 in 5 receiver swaption is -0.11356808771542931\n"
     ]
    }
   ],
   "source": [
    "S = 2*(Z[5*2-1]-Z[25*2-1])/sum(Z[10:50])\n",
    "c3 = 0.04\n",
    "payoff3 = max(c3-S,0)*sum(Z[10:50])/2\n",
    "print('The payoff of a 20 in 5 receiver swaption',payoff3)\n",
    "#fixed leg\n",
    "fixedleg3 = c3/2*sum(Z[10:50])\n",
    "print('Fixed leg',fixedleg3)\n",
    "# floating leg\n",
    "floatingleg3 = Z[9]-Z[49]\n",
    "print('Floating leg',floatingleg3)\n",
    "swapvalue = fixedleg3 - floatingleg3\n",
    "print('The value of a 20 in 5 receiver swaption is',swapvalue)"
   ]
  },
  {
   "cell_type": "markdown",
   "metadata": {},
   "source": [
    "#### 4. Write a 2 functions that calculate relevant mortgage information.\n",
    "\n",
    "    1.  For a given rate, term, and payment, what is the loan amount?\n",
    "    2.  For a given loan amount, payment, and term, what is the interest rate ?"
   ]
  },
  {
   "cell_type": "markdown",
   "metadata": {},
   "source": [
    "$$L_m = L_{m-1}+interest_m-Payment$$\n",
    "where\n",
    "$$m \\in \\{0,1,2,\\cdots,Terms\\}$$\n",
    "\n",
    "$$0=L_{Term}=L_0\\times(1+r)^T-C\\times\\sum_{k=0}^{Term-1}(1+r)^k$$\n",
    "$$L_0\\times(1+r)^T-C\\times\\frac{(1+r)^T-1}{r}=0$$"
   ]
  },
  {
   "cell_type": "markdown",
   "metadata": {},
   "source": [
    "A. For a given rate, term, and payment, what is the loan amount?"
   ]
  },
  {
   "cell_type": "code",
   "execution_count": 17,
   "metadata": {},
   "outputs": [],
   "source": [
    "from scipy.optimize import fsolve\n",
    "# r means monthly rate\n",
    "# T means term\n",
    "# C means payment\n",
    "def GetLoanAmount(r,T,C):\n",
    "    L0 = fsolve(lambda x: x*pow(1+r,T)-C*(pow(1+r,T)-1)/r,0)\n",
    "    return L0"
   ]
  },
  {
   "cell_type": "code",
   "execution_count": 18,
   "metadata": {},
   "outputs": [
    {
     "data": {
      "text/plain": [
       "array([199999.82481785])"
      ]
     },
     "execution_count": 18,
     "metadata": {},
     "output_type": "execute_result"
    }
   ],
   "source": [
    "GetLoanAmount(0.005,360,1199.10)"
   ]
  },
  {
   "cell_type": "markdown",
   "metadata": {},
   "source": [
    "B. For a given loan amount, payment, and term, what is the interest rate ?"
   ]
  },
  {
   "cell_type": "code",
   "execution_count": 19,
   "metadata": {},
   "outputs": [],
   "source": [
    "# L0 means loan amount\n",
    "# C means payment\n",
    "# T means term\n",
    "def GetInterestRate(L0,C,T):\n",
    "    r = fsolve(lambda x: L0*pow(1+x,T) - C*(pow(1+x,T)-1)/x,0.01)\n",
    "    return r\n",
    "# this is a monthly rate"
   ]
  },
  {
   "cell_type": "code",
   "execution_count": 20,
   "metadata": {},
   "outputs": [
    {
     "data": {
      "text/plain": [
       "array([0.00499999])"
      ]
     },
     "execution_count": 20,
     "metadata": {},
     "output_type": "execute_result"
    }
   ],
   "source": [
    "GetInterestRate(200000,1199.10,360)"
   ]
  },
  {
   "cell_type": "code",
   "execution_count": null,
   "metadata": {},
   "outputs": [],
   "source": []
  }
 ],
 "metadata": {
  "kernelspec": {
   "display_name": "Python 3",
   "language": "python",
   "name": "python3"
  },
  "language_info": {
   "codemirror_mode": {
    "name": "ipython",
    "version": 3
   },
   "file_extension": ".py",
   "mimetype": "text/x-python",
   "name": "python",
   "nbconvert_exporter": "python",
   "pygments_lexer": "ipython3",
   "version": "3.7.1"
  }
 },
 "nbformat": 4,
 "nbformat_minor": 4
}
