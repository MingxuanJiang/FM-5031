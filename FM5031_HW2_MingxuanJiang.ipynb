{
 "cells": [
  {
   "cell_type": "markdown",
   "metadata": {
    "colab_type": "text",
    "id": "8ebPCqmM0hZf"
   },
   "source": [
    "# Math 5031\n",
    "## Home Work  2\n",
    "### MingxuanJiang 5588030\n",
    "**Due:  Monday, September 28\n",
    "\n",
    "\n"
   ]
  },
  {
   "cell_type": "markdown",
   "metadata": {},
   "source": [
    "Collarborated with HaoChen and JingyiLi"
   ]
  },
  {
   "cell_type": "markdown",
   "metadata": {
    "colab_type": "text",
    "id": "MwWp0mKe0hZg"
   },
   "source": [
    "1. Create a new bootstrapping function with the same inputs and outputs as from the first homework, but this time implement the constant forward assumption.  "
   ]
  },
  {
   "cell_type": "code",
   "execution_count": 1,
   "metadata": {},
   "outputs": [],
   "source": [
    "import numpy as np\n",
    "from matplotlib import pyplot as plt\n",
    "from scipy.optimize import fsolve"
   ]
  },
  {
   "cell_type": "code",
   "execution_count": 106,
   "metadata": {},
   "outputs": [],
   "source": [
    "mats = [1,2,3]\n",
    "par_yields = [0.01,0.02,0.03]"
   ]
  },
  {
   "cell_type": "code",
   "execution_count": 87,
   "metadata": {},
   "outputs": [],
   "source": [
    "def BootCon(mats,par_yields):\n",
    "        \n",
    "    # the coupon matrix at first mats\n",
    "    C1 = np.kron(np.ones(int(mats[0]*2)), par_yields[0])/2\n",
    "    C1[-1] += 1\n",
    "    Power_index = np.arange(1,len(C1)+1).reshape(-1,1)\n",
    "    # Get the Zcb at the time 0.5 \n",
    "    Zcb = [fsolve(lambda x: np.dot(C1, np.power(np.ones((len(C1),1))*x,Power_index))-1, 2)[0]]\n",
    "    # Get the rest Zcb before mats[1]\n",
    "    k=1\n",
    "    for i in np.arange(0.5,mats[0],0.5):\n",
    "        k+=1\n",
    "        Zcb.append(np.power(Zcb[0],k))\n",
    "    \n",
    "    # the rest of mats\n",
    "    for index in range(1,len(mats)):\n",
    "        # the coupon matrix\n",
    "        C = np.kron(np.ones(int(mats[index]*2)), par_yields[index])/2\n",
    "        C[-1] += 1\n",
    "        Power_index1 = np.zeros(len(Zcb))\n",
    "        Power_index2 = np.arange(1,(mats[index]-mats[index-1])*2+1)\n",
    "        Power_index = np.hstack((Power_index1,Power_index2))\n",
    "        while len(Zcb) < int(mats[index]/0.5):\n",
    "            Zcb.append(Zcb[-1])\n",
    "            \n",
    "        z = fsolve(lambda x: np.dot(C, np.multiply(Zcb, np.power(np.ones(len(Zcb))*x,Power_index)))-1,0)[0]\n",
    "        #print(z)\n",
    "        k = 1\n",
    "        for i in np.arange(mats[index-1]*2,mats[index]*2,1):\n",
    "            Zcb[int(i)] *= np.power(z,k)\n",
    "            k += 1\n",
    "    \n",
    "    time = np.arange(0.5,mats[-1]+0.1,0.5)\n",
    "    SpotRate = -np.log(Zcb)/time\n",
    "    \n",
    "    Zcb = np.array(Zcb)\n",
    "    return Zcb,SpotRate\n",
    "\n"
   ]
  },
  {
   "cell_type": "code",
   "execution_count": 107,
   "metadata": {},
   "outputs": [
    {
     "name": "stdout",
     "output_type": "stream",
     "text": [
      "zcb [0.99502488 0.9900745  0.97532129 0.96078791 0.93680888 0.91342831]\n",
      "spot rate [0.00997508 0.00997508 0.01665889 0.02000079 0.02611039 0.03018346]\n"
     ]
    }
   ],
   "source": [
    "# test\n",
    "Zcb,SpotRate = BootCon(mats,par_yields)\n",
    "print('zcb',Zcb)\n",
    "print('spot rate',SpotRate)"
   ]
  },
  {
   "cell_type": "code",
   "execution_count": 89,
   "metadata": {
    "scrolled": true
   },
   "outputs": [
    {
     "name": "stdout",
     "output_type": "stream",
     "text": [
      "99.99999999999999\n"
     ]
    }
   ],
   "source": [
    "print(sum(Zcb*np.array([1.5,1.5,1.5,1.5,1.5,101.5])))"
   ]
  },
  {
   "cell_type": "markdown",
   "metadata": {
    "colab_type": "text",
    "id": "vI4dsKlh0hZh"
   },
   "source": [
    "2. Consider the following par-yield curve as of 12/31/2020:\n",
    "\n",
    "|Term|BEY%|\n",
    "|---|---|\n",
    "|1|1.51|\n",
    "|2|1.78|\n",
    "|3|2.11|\n",
    "|4|2.75|\n",
    "|5|2.94|\n",
    "|7|3.45|\n",
    "|10|3.87|\n",
    "|20|4.00|\n",
    "|30|3.50|\n",
    "\n",
    "\n",
    "     Using the bootstrapping function from ex. 1 or from Home work 1, value the following bonds as of 12/31/2020:\n",
    "\n",
    "   a) A 17-year bond with $5.00\\% BEY$ coupons\n",
    "\n",
    "   b) A 6-year bond with $1.00\\% BEY$ coupons\n",
    "\n",
    "   c) A 5-year floating rate bond with coupon rate $c(t) =  y_2(t-0.5) + .002$\n",
    "\n",
    "   d) A 10-year inverse floater where the coupon rate $c(t) = .20 - y_2(t-0.5)$"
   ]
  },
  {
   "cell_type": "code",
   "execution_count": 90,
   "metadata": {},
   "outputs": [],
   "source": [
    "def simplebootstrap(mats, par_yields):\n",
    "    \n",
    "    \n",
    "    #  This is not always needed, but sometimes helpful\n",
    "    mats = np.array(mats)\n",
    "    mats = mats.flatten()\n",
    "    par_yields = np.array(par_yields)\n",
    "    par_yields = par_yields.flatten()  \n",
    "    #\n",
    "    \n",
    "    \n",
    "    firstmat = mats[0]\n",
    "    lastmat = mats[-1]  #mats should be fed in in order.\n",
    "    \n",
    "    times = np.arange(0.5, lastmat+.5, 0.5)\n",
    "    \n",
    "    \n",
    "    if mats[0] > 0.5:  #in case first par yield is not 6 months\n",
    "        \n",
    "        earlymats = np.arange(0.5,firstmat,.5)\n",
    "        \n",
    "        mats = np.append(earlymats,mats)\n",
    "        \n",
    "        earlypars = np.ones((1,2*firstmat -1)) * par_yields[0]\n",
    "        earlypars = earlypars.flatten()\n",
    "        par_yields = np.append(earlypars, par_yields)\n",
    "        \n",
    "    \n",
    "    bey_interp = np.interp(times,mats,par_yields)\n",
    "    \n",
    "    # Make the coupon matrix\n",
    "    \n",
    "    C = np.kron(np.ones((len(bey_interp),1)),bey_interp).T /2\n",
    "    \n",
    "    \n",
    "    C = np.tril(C) + np.eye(len(bey_interp))\n",
    "    \n",
    "    \n",
    "    pars = np.ones((len(bey_interp),1))\n",
    "    # solve matrix equation\n",
    "    \n",
    "    ZCB = np.matmul(np.linalg.inv(C),pars).flatten()\n",
    "    \n",
    "    \n",
    "    spots = -np.log(ZCB) *  1/times\n",
    "    \n",
    "    return ZCB, spots"
   ]
  },
  {
   "cell_type": "code",
   "execution_count": 91,
   "metadata": {},
   "outputs": [],
   "source": [
    "terms = np.array([1,2,3,4,5,7,10,20,30])\n",
    "BEYs = np.array([.0151,.0178,.0211,.0275,.0294,.0345,.0387,.04,.035])\n",
    "Z,rates = simplebootstrap(terms,BEYs)"
   ]
  },
  {
   "cell_type": "markdown",
   "metadata": {},
   "source": [
    "a)"
   ]
  },
  {
   "cell_type": "code",
   "execution_count": 92,
   "metadata": {
    "scrolled": true
   },
   "outputs": [
    {
     "name": "stdout",
     "output_type": "stream",
     "text": [
      "[0.025 0.025 0.025 0.025 0.025 0.025 0.025 0.025 0.025 0.025 0.025 0.025\n",
      " 0.025 0.025 0.025 0.025 0.025 0.025 0.025 0.025 0.025 0.025 0.025 0.025\n",
      " 0.025 0.025 0.025 0.025 0.025 0.025 0.025 0.025 0.025 1.025]\n",
      "The value is 113.01\n"
     ]
    }
   ],
   "source": [
    "cfs1 = 0.05/2*np.ones((17*2,1)).flatten()\n",
    "cfs1[-1] += 1\n",
    "print(cfs1)\n",
    "value1 = np.inner(cfs1,Z[0:17*2])\n",
    "print('The value is',round(100*value1,2))"
   ]
  },
  {
   "cell_type": "markdown",
   "metadata": {},
   "source": [
    "b)"
   ]
  },
  {
   "cell_type": "code",
   "execution_count": 93,
   "metadata": {},
   "outputs": [
    {
     "name": "stdout",
     "output_type": "stream",
     "text": [
      "[0.005 0.005 0.005 0.005 0.005 0.005 0.005 0.005 0.005 0.005 0.005 1.005]\n",
      "The value is 87.89\n"
     ]
    }
   ],
   "source": [
    "cfs2 = 0.01/2*np.ones((6*2,1)).flatten()\n",
    "cfs2[-1] += 1\n",
    "print(cfs2)\n",
    "value2 = np.inner(cfs2,Z[0:6*2])\n",
    "print('The value is',round(100*value2,2))"
   ]
  },
  {
   "cell_type": "markdown",
   "metadata": {},
   "source": [
    "c)$$B(0) = B_{standard}(0) + B_{spreadonly}(0)$$\n",
    "$$B(0) = 1+s/2A_2(0,T)$$"
   ]
  },
  {
   "cell_type": "code",
   "execution_count": 94,
   "metadata": {},
   "outputs": [
    {
     "name": "stdout",
     "output_type": "stream",
     "text": [
      "The value is 100.94\n"
     ]
    }
   ],
   "source": [
    "value3 = (sum(0.002/2*Z[0:10])+1)\n",
    "print('The value is',round(100*value3,2))"
   ]
  },
  {
   "cell_type": "markdown",
   "metadata": {},
   "source": [
    "d)$$B_{inverse}(0,T) = Z(0,T) + s/2A_2(0,T) - B_{FCO}(0,T)$$\n",
    "$$B_{FCO}(0,T) = 100*(1-Z(0,T))$$"
   ]
  },
  {
   "cell_type": "code",
   "execution_count": 95,
   "metadata": {},
   "outputs": [
    {
     "name": "stdout",
     "output_type": "stream",
     "text": [
      "The value is 203.78\n"
     ]
    }
   ],
   "source": [
    "value4 = Z[20-1]+sum(0.2/2*Z[0:20])-(1-Z[20-1])\n",
    "print('The value is',round(100*value4,2))"
   ]
  },
  {
   "cell_type": "markdown",
   "metadata": {
    "colab_type": "text",
    "id": "PuyTCI110hZi"
   },
   "source": [
    "3. \n",
    "\n",
    " i) Calculate the duration and convexity of bonds a and b in question 2\n",
    "\n",
    " ii) Estimate the impact of a $0.50\\%$ increase in rates on the value of each bond using duration and then duration and convexity.  Compare each to the exact answer."
   ]
  },
  {
   "cell_type": "markdown",
   "metadata": {},
   "source": [
    "i)"
   ]
  },
  {
   "cell_type": "code",
   "execution_count": 96,
   "metadata": {},
   "outputs": [
    {
     "name": "stdout",
     "output_type": "stream",
     "text": [
      "The duration of bond a is 11.855981033468666\n",
      "The duration of bond b is 5.820950307303775\n"
     ]
    }
   ],
   "source": [
    "# Duration\n",
    "times1 = np.arange(0.5,17.1,0.5)\n",
    "Dur1 = np.inner(Z[0:17*2], times1 * cfs1)/ value1\n",
    "print('The duration of bond a is',Dur1)\n",
    "times2 = np.arange(0.5,6.1,0.5)\n",
    "Dur2 = np.inner(Z[0:6*2], times2 * cfs2) / value2\n",
    "print('The duration of bond b is',Dur2)"
   ]
  },
  {
   "cell_type": "code",
   "execution_count": 97,
   "metadata": {},
   "outputs": [
    {
     "name": "stdout",
     "output_type": "stream",
     "text": [
      "The convexity of bond a is 174.78951267560595\n",
      "The convexity of bond b is 34.54736172329511\n"
     ]
    }
   ],
   "source": [
    "# Convexity\n",
    "cv1 = np.inner(Z[0:17*2],cfs1*times1**2)/value1\n",
    "print('The convexity of bond a is', cv1)\n",
    "cv2 = np.inner(Z[0:6*2],cfs2*times2**2)/value2\n",
    "print('The convexity of bond b is', cv2)"
   ]
  },
  {
   "cell_type": "markdown",
   "metadata": {},
   "source": [
    "ii) the impact of a 0.5% increase in rates"
   ]
  },
  {
   "cell_type": "code",
   "execution_count": 98,
   "metadata": {},
   "outputs": [
    {
     "name": "stdout",
     "output_type": "stream",
     "text": [
      "bond a\n",
      "decrease percent 5.715140969577092\n",
      "loss 6.458492574594166\n"
     ]
    }
   ],
   "source": [
    "print('bond a')\n",
    "decrease_percent1 = 0.5*Dur1\n",
    "est_loss1 = decrease_percent1/100*value1\n",
    "z_new1 = np.exp(-(rates[0:17*2]+0.005)*times1)\n",
    "value_new1 = np.inner(cfs1,z_new1)\n",
    "decrease_percent_exact = (1 - value_new1/value1)*100\n",
    "print('decrease percent',decrease_percent_exact)\n",
    "\n",
    "loss_exact = value1 - value_new1\n",
    "print('loss',loss_exact*100)"
   ]
  },
  {
   "cell_type": "code",
   "execution_count": 99,
   "metadata": {},
   "outputs": [
    {
     "name": "stdout",
     "output_type": "stream",
     "text": [
      "loss -6.452121998165963\n"
     ]
    }
   ],
   "source": [
    "impact1 = -0.005*Dur1+1/2*0.005*0.005*cv1\n",
    "print('loss',impact1*value1*100)"
   ]
  },
  {
   "cell_type": "code",
   "execution_count": 100,
   "metadata": {},
   "outputs": [
    {
     "name": "stdout",
     "output_type": "stream",
     "text": [
      "bond b\n",
      "decrease percent 2.867717283528315\n",
      "loss 2.5205118418146433\n"
     ]
    }
   ],
   "source": [
    "print('bond b')\n",
    "decrease_percent2 = 0.5*Dur2\n",
    "est_loss2 = decrease_percent2/100*value2\n",
    "z_new2 = np.exp(-(rates[0:12]+0.005)*times2)\n",
    "value_new2 = np.inner(cfs2,z_new2)\n",
    "decrease_percent_exact = (1 - value_new2/value2)*100\n",
    "print('decrease percent',decrease_percent_exact)\n",
    "\n",
    "loss_exact = value2 - value_new2\n",
    "print('loss',loss_exact*100)"
   ]
  },
  {
   "cell_type": "code",
   "execution_count": 101,
   "metadata": {},
   "outputs": [
    {
     "name": "stdout",
     "output_type": "stream",
     "text": [
      "loss -2.520137127425014\n"
     ]
    }
   ],
   "source": [
    "impact2 = -0.005*Dur2+1/2*0.005*0.005*cv2\n",
    "print('loss',impact2*value2*100)"
   ]
  },
  {
   "cell_type": "markdown",
   "metadata": {
    "colab_type": "text",
    "id": "aH2eaSl20hZi"
   },
   "source": [
    "4.  Three semi-annual coupon  bonds as given in the table.\n",
    "\n",
    "|Bond|Coupon Rate|Maturity|Duration|Convexity|\n",
    "|---|---|---|---|---|\n",
    "|X|$2.00\\%$|3|2.7|6|\n",
    "|Y|$5.00\\%$|7|5.1|40|\n",
    "|Z|$4.00\\%$|20|12.0|180|"
   ]
  },
  {
   "cell_type": "markdown",
   "metadata": {
    "colab_type": "text",
    "id": "GkDiIIlJ0hZj"
   },
   "source": [
    "A  pension plan has plan liabilities worth $\\$90$M and currently $Dur_L = 11$ and $Conv_L = 100$.  The assets are currently worth $\\$100$M and are invested $50/50$ into bonds $X$ and $Y$.  In order to protect against changes in interest rates, recommend a change in the portfolio allocation and explain your recommendation."
   ]
  },
  {
   "cell_type": "code",
   "execution_count": 2,
   "metadata": {
    "colab": {},
    "colab_type": "code",
    "id": "7wzPloXR0hZj"
   },
   "outputs": [
    {
     "name": "stdout",
     "output_type": "stream",
     "text": [
      "Initial portfolio duration is 3.9\n",
      "Initial portfolio convexity is 23.0\n"
     ]
    }
   ],
   "source": [
    "Weight = np.array([50,50,0])\n",
    "Dur = np.array([2.7,5.1,12])\n",
    "Con = np.array([6,40,180])\n",
    "DurPI = np.inner(Weight,Dur)/sum(Weight)\n",
    "print('Initial portfolio duration is',DurPI)\n",
    "ConPI = np.inner(Weight,Con)/sum(Weight)\n",
    "print('Initial portfolio convexity is',ConPI)"
   ]
  },
  {
   "cell_type": "markdown",
   "metadata": {},
   "source": [
    "$$2.7x+5.1y+12z=11*90/100$$\n",
    "$$6x+40y+180z\\geq90*100$$\n",
    "$$x+y+z=100$$"
   ]
  },
  {
   "cell_type": "code",
   "execution_count": 7,
   "metadata": {},
   "outputs": [
    {
     "name": "stdout",
     "output_type": "stream",
     "text": [
      "Weight of bond X is -322.48520710059256 . Weight of bond Y is 465.0887573964508 . Weight of bond Z is -42.6035502958582\n"
     ]
    }
   ],
   "source": [
    "A = np.array([[2.7,5.1,12],[6,40,180],[1,1,1]])\n",
    "B = np.array([990,9000,100])\n",
    "w = np.matmul(np.linalg.inv(A),B)\n",
    "print('Weight of bond X is',w[0],'. Weight of bond Y is',w[1],'. Weight of bond Z is',w[2])"
   ]
  },
  {
   "cell_type": "markdown",
   "metadata": {},
   "source": [
    "We can't short bond. So assume weight of bond X is 0."
   ]
  },
  {
   "cell_type": "code",
   "execution_count": 9,
   "metadata": {},
   "outputs": [
    {
     "name": "stdout",
     "output_type": "stream",
     "text": [
      "Weight of bond X is 0 . Weight of bond Y is 30.434782608695684 . Weight of bond Z is 69.56521739130433\n"
     ]
    }
   ],
   "source": [
    "A = np.array([[1,1],[5.1,12]])\n",
    "B = np.array([100,990])\n",
    "w = np.matmul(np.linalg.inv(A),B)\n",
    "print('Weight of bond X is',0,'. Weight of bond Y is',w[0],'. Weight of bond Z is',w[1])"
   ]
  },
  {
   "cell_type": "code",
   "execution_count": 10,
   "metadata": {},
   "outputs": [
    {
     "name": "stdout",
     "output_type": "stream",
     "text": [
      "The dollar convexity is 13739.130434782608\n"
     ]
    }
   ],
   "source": [
    "print('The dollar convexity is',np.inner(w,np.array([40,180])))"
   ]
  },
  {
   "cell_type": "markdown",
   "metadata": {},
   "source": [
    "In this case, A > L. I recommend to change the portfilio invested 0/0.30/0.69 into bonds X, Y and Z. This is because we need the Duration equal to $Dur_L = Dur_A*L/A$. Meanwhile, the sum of weight is equal to 1 and the convexity is greater than 9000.\n",
    "\n",
    "It means that we need to change the weight of bond X to 0 from 0.5, the weight of bond Y to 0.30 from 0.5 and the weight of bond Z to 0.69 from 0 to get our portfolio."
   ]
  },
  {
   "cell_type": "code",
   "execution_count": null,
   "metadata": {},
   "outputs": [],
   "source": []
  }
 ],
 "metadata": {
  "colab": {
   "name": "MATH5031HW2.ipynb",
   "provenance": []
  },
  "kernelspec": {
   "display_name": "Python 3",
   "language": "python",
   "name": "python3"
  },
  "language_info": {
   "codemirror_mode": {
    "name": "ipython",
    "version": 3
   },
   "file_extension": ".py",
   "mimetype": "text/x-python",
   "name": "python",
   "nbconvert_exporter": "python",
   "pygments_lexer": "ipython3",
   "version": "3.7.1"
  }
 },
 "nbformat": 4,
 "nbformat_minor": 1
}
